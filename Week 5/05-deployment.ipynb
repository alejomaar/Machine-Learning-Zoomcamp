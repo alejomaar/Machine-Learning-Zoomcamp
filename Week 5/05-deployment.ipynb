{
 "cells": [
  {
   "cell_type": "markdown",
   "metadata": {},
   "source": [
    "## Homework\n",
    "\n",
    "In this homework, we will use Credit Card Data from [the previous homework](https://github.com/alexeygrigorev/mlbookcamp-code/blob/master/course-zoomcamp/cohorts/2022/04-evaluation/homework.md)."
   ]
  },
  {
   "cell_type": "markdown",
   "metadata": {},
   "source": [
    "## Question 1\n",
    "\n",
    "* Install Pipenv\n",
    "* What's the version of pipenv you installed?\n",
    "* Use `--version` to find out\n",
    "\n",
    "### Solution\n",
    "Run in your terminal:\n",
    "\n",
    "1. pip install pipenv\n",
    "2. pipenv install numpy pandas scikit-learn==1.0.2\n",
    "3. pipenv --version\n",
    "4. pipenv shell"
   ]
  },
  {
   "cell_type": "code",
   "execution_count": 38,
   "metadata": {},
   "outputs": [
    {
     "name": "stdout",
     "output_type": "stream",
     "text": [
      "pipenv, version 2020.11.15\n",
      "\n"
     ]
    }
   ],
   "source": [
    "!pipenv --version"
   ]
  },
  {
   "cell_type": "markdown",
   "metadata": {},
   "source": [
    "## Question 2\n",
    "\n",
    "* Use Pipenv to install Scikit-Learn version 1.0.2\n",
    "* What's the first hash for scikit-learn you get in Pipfile.lock?"
   ]
  },
  {
   "cell_type": "markdown",
   "metadata": {},
   "source": [
    "Answer: sha256:08ef968f6b72033c16c479c966bf37ccd49b06ea91b765e1cc27afefe723920b"
   ]
  },
  {
   "cell_type": "markdown",
   "metadata": {},
   "source": [
    "## Models\n",
    "\n",
    "An already trained classification model will be used. The next step is to download the model and an associated DictVectorized to this task.\n",
    "Download the following files."
   ]
  },
  {
   "cell_type": "code",
   "execution_count": 2,
   "metadata": {},
   "outputs": [],
   "source": [
    "PREFIX='https://raw.githubusercontent.com/alexeygrigorev/mlbookcamp-code/master/course-zoomcamp/cohorts/2022/05-deployment/homework'"
   ]
  },
  {
   "cell_type": "code",
   "execution_count": 3,
   "metadata": {},
   "outputs": [
    {
     "name": "stdout",
     "output_type": "stream",
     "text": [
      "\n",
      "Saved under model1.bin\n",
      "\n",
      "Saved under dv.bin\n"
     ]
    }
   ],
   "source": [
    "!python install wget\n",
    "!python -m wget $PREFIX/model1.bin\n",
    "!python -m wget $PREFIX/dv.bin"
   ]
  },
  {
   "cell_type": "markdown",
   "metadata": {},
   "source": [
    "## Serve four flask app\n",
    "\n",
    "Before continuing, you must run flask app. Execute:\n",
    "\n",
    "`gunicorn --bind=0.0.0.0:9696 service:app` -> Production (Linux)\n",
    "`waitress-serve --listen=0.0.0.0:9696 service:app` -> Production (Windows)\n",
    "\n",
    "`python service.py` -> Development\n"
   ]
  },
  {
   "cell_type": "markdown",
   "metadata": {},
   "source": [
    "## Question 3\n",
    "\n",
    "Let's use these models!\n",
    "\n",
    "* Write a script for loading these models with pickle\n",
    "* Score this client:\n",
    "\n",
    "```json\n",
    "{\"reports\": 0, \"share\": 0.001694, \"expenditure\": 0.12, \"owner\": \"yes\"}\n",
    "```\n",
    "\n",
    "What's the probability that this client will get a credit card? \n",
    "\n",
    "* 0.162\n",
    "* 0.391\n",
    "* 0.601\n",
    "* 0.993\n",
    "\n",
    "\n",
    "NOTE: Run `request_test.py` for check the solution\n",
    "\n",
    "Answer: 0.162"
   ]
  },
  {
   "cell_type": "code",
   "execution_count": 39,
   "metadata": {},
   "outputs": [],
   "source": [
    "import requests\n",
    "def send_request(data):   \n",
    "    url = 'http://localhost:9696/predict'\n",
    "   \n",
    "    client_id = 'xyz-123'\n",
    "\n",
    "    response = requests.post(url, json=data).json()\n",
    "\n",
    "    print(response)\n",
    "    \n",
    "    if response['is_credit'] == True:\n",
    "        print('Customer %s will get a credit' % client_id)\n",
    "    else:\n",
    "        print('Customer %s will not get a credit' % client_id)"
   ]
  },
  {
   "cell_type": "code",
   "execution_count": 40,
   "metadata": {},
   "outputs": [
    {
     "name": "stdout",
     "output_type": "stream",
     "text": [
      "{'credit_probability': 0.16213414434326598, 'is_credit': False}\n",
      "Customer xyz-123 will not get a credit\n"
     ]
    }
   ],
   "source": [
    "client ={\"reports\": 0, \"share\": 0.001694, \"expenditure\": 0.12, \"owner\": \"yes\"}\n",
    "data ={\"client\":client,\"model\":'model1.bin'}\n",
    "send_request(data)"
   ]
  },
  {
   "cell_type": "markdown",
   "metadata": {},
   "source": [
    "## Question 4\n",
    "\n",
    "Now let's serve this model as a web service\n",
    "\n",
    "* Install Flask and gunicorn (or waitress, if you're on Windows)\n",
    "* Write Flask code for serving the model\n",
    "* Now score this client using `requests`:"
   ]
  },
  {
   "cell_type": "code",
   "execution_count": 41,
   "metadata": {},
   "outputs": [
    {
     "name": "stdout",
     "output_type": "stream",
     "text": [
      "{'credit_probability': 0.9282218018527452, 'is_credit': True}\n",
      "Customer xyz-123 will get a credit\n"
     ]
    }
   ],
   "source": [
    "client ={\"reports\": 0, \"share\": 0.245, \"expenditure\": 3.438, \"owner\": \"yes\"}\n",
    "data ={\"client\":client,\"model\":'model1.bin'}\n",
    "send_request(data)"
   ]
  },
  {
   "cell_type": "markdown",
   "metadata": {},
   "source": [
    "## Docker\n",
    "\n",
    "Install [Docker](https://github.com/alexeygrigorev/mlbookcamp-code/blob/master/course-zoomcamp/05-deployment/06-docker.md). We will use it for the next two questions.\n",
    "\n",
    "For these questions, we prepared a base image: `svizor/zoomcamp-model:3.9.12-slim`. \n",
    "You'll need to use it (see Question 5 for an example).\n",
    "\n",
    "This image is based on `python:3.9.12-slim` and has a logistic regression model \n",
    "(a different one) as well a dictionary vectorizer inside. \n",
    "\n",
    "**1. Run in terminal**\n",
    "\n",
    "`docker pull svizor/zoomcamp-model:3.9.12-slim`"
   ]
  },
  {
   "cell_type": "markdown",
   "metadata": {},
   "source": [
    "## Question 5\n",
    "So what's the size of this base image?\n",
    "\n",
    "* 15 Mb\n",
    "* 125 Mb\n",
    "* 275 Mb\n",
    "* 415 Mb"
   ]
  },
  {
   "cell_type": "code",
   "execution_count": 11,
   "metadata": {},
   "outputs": [
    {
     "name": "stdout",
     "output_type": "stream",
     "text": [
      "REPOSITORY              TAG           IMAGE ID       CREATED      SIZE\n",
      "svizor/zoomcamp-model   3.9.12-slim   571a6fdc554b   7 days ago   125MB\n"
     ]
    }
   ],
   "source": [
    "!docker images"
   ]
  },
  {
   "cell_type": "markdown",
   "metadata": {},
   "source": [
    "Docker commands\n",
    "* Build docker dependencies\n",
    "    -    docker build -t zoomcamp-model .\n",
    "* Open docker bash\n",
    "    -    docker run -it --rm --entrypoint=bash zoomcamp-model\n",
    "* Run docker\n",
    "    -    docker run -it --rm -p 9696:9696 zoomcamp-model"
   ]
  },
  {
   "cell_type": "markdown",
   "metadata": {},
   "source": [
    "## Question 6\n",
    "\n",
    "Let's run your docker container!\n",
    "\n",
    "After running it, score this client once again:"
   ]
  },
  {
   "cell_type": "code",
   "execution_count": 36,
   "metadata": {},
   "outputs": [
    {
     "name": "stdout",
     "output_type": "stream",
     "text": [
      "{'credit_probability': 0.7692649226628628, 'is_credit': True}\n",
      "Customer xyz-123 will get a credit\n"
     ]
    }
   ],
   "source": [
    "client={\"reports\": 0, \"share\": 0.245, \"expenditure\": 3.438, \"owner\": \"yes\"}\n",
    "data ={\"client\":client,\"model\":'model2.bin'}\n",
    "send_request(data)"
   ]
  }
 ],
 "metadata": {
  "kernelspec": {
   "display_name": "Python 3.9.13 ('ml-zoomcamp')",
   "language": "python",
   "name": "python3"
  },
  "language_info": {
   "codemirror_mode": {
    "name": "ipython",
    "version": 3
   },
   "file_extension": ".py",
   "mimetype": "text/x-python",
   "name": "python",
   "nbconvert_exporter": "python",
   "pygments_lexer": "ipython3",
   "version": "3.9.13"
  },
  "orig_nbformat": 4,
  "vscode": {
   "interpreter": {
    "hash": "181881a0b307ca682e4a224e0e0b9985c4687fb0d86dc7fa4c6974d183122977"
   }
  }
 },
 "nbformat": 4,
 "nbformat_minor": 2
}
