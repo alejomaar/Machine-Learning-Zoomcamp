{
 "cells": [
  {
   "cell_type": "markdown",
   "metadata": {},
   "source": [
    "## Homework\n",
    "\n",
    "In this homework, we'll deploy Credit Card prediction model from the homework 5.\n",
    "We already have a docker image for this model - we'll use it for \n",
    "deploying the model to Kubernetes."
   ]
  },
  {
   "cell_type": "markdown",
   "metadata": {},
   "source": [
    "Go to the `Week 10/service` folder and \n",
    "execute the following:\n",
    "\n",
    "\n",
    "```bash\n",
    "docker build -t zoomcamp-model:v001 .\n",
    "```"
   ]
  },
  {
   "cell_type": "markdown",
   "metadata": {},
   "source": [
    "## Question 1\n",
    "\n",
    "Run it to test that it's working locally:\n",
    "\n",
    "```bash\n",
    "docker run -it --rm -p 9696:9696 zoomcamp-model:v001\n",
    "```\n",
    "\n",
    "And in another terminal, execute `q6_test.py` file:\n",
    "\n",
    "```bash\n",
    "python q6_test.py\n",
    "```\n",
    "\n",
    "You should see this:\n",
    "\n",
    "```\n",
    "{'get_card': True, 'get_card_probability': <value>}\n",
    "```\n",
    "\n",
    "Here `<value>` is the probability of getting a credit card. You need to choose the right one.\n",
    "\n",
    "Here `<value>` is the probability of getting a credit card. You need to choose the right one.\n",
    "\n",
    "* 0.289\n",
    "* 0.502\n",
    "* 0.769\n",
    "* 0.972"
   ]
  },
  {
   "cell_type": "code",
   "execution_count": 13,
   "metadata": {},
   "outputs": [
    {
     "name": "stdout",
     "output_type": "stream",
     "text": [
      "{'get_card': True, 'get_card_probability': 0.7692649226628628}\n"
     ]
    }
   ],
   "source": [
    "#Result\n",
    "!python -m app.q6_test"
   ]
  },
  {
   "cell_type": "markdown",
   "metadata": {},
   "source": [
    "`Answer`: 0.769"
   ]
  },
  {
   "cell_type": "markdown",
   "metadata": {},
   "source": [
    "## Question 2\n",
    "\n",
    "What's the version of `kind` that you have? \n",
    "\n",
    "Use `kind --version` to find out."
   ]
  },
  {
   "cell_type": "code",
   "execution_count": 3,
   "metadata": {},
   "outputs": [
    {
     "name": "stdout",
     "output_type": "stream",
     "text": [
      "kind version 0.17.0\n"
     ]
    }
   ],
   "source": [
    "!kind --version"
   ]
  },
  {
   "cell_type": "markdown",
   "metadata": {},
   "source": [
    "## Creating a cluster\n",
    "\n",
    "Now let's create a cluster with `kind`:\n",
    "\n",
    "```bash\n",
    "kind create cluster\n",
    "```\n",
    "\n",
    "And check with `kubectl` that it was successfully created:\n",
    "\n",
    "```bash\n",
    "kubectl cluster-info"
   ]
  },
  {
   "cell_type": "markdown",
   "metadata": {},
   "source": [
    "## Question 3\n",
    "\n",
    "What's the smallest deployable computing unit that we can create and manage \n",
    "in Kubernetes (`kind` in our case)?\n",
    "\n",
    "* Node\n",
    "* Pod\n",
    "* Deployment\n",
    "* Service"
   ]
  },
  {
   "cell_type": "markdown",
   "metadata": {},
   "source": [
    "`Answer`:Pods are the smallest deployable units of computing that you can create and manage in Kubernetes. \n",
    "\n",
    "https://kubernetes.io/docs/concepts/workloads/pods/"
   ]
  },
  {
   "cell_type": "markdown",
   "metadata": {},
   "source": [
    "## Question 4\n",
    "\n",
    "Now let's test if everything works. Use `kubectl` to get the list of running services.\n",
    "\n",
    "What's the `Type` of the service that is already running there?\n",
    "\n",
    "* ClusterIP\n",
    "* NodePort\n",
    "* LoadBalancer\n",
    "* ExternalName"
   ]
  },
  {
   "cell_type": "code",
   "execution_count": 7,
   "metadata": {},
   "outputs": [
    {
     "name": "stdout",
     "output_type": "stream",
     "text": [
      "NAME         TYPE        CLUSTER-IP   EXTERNAL-IP   PORT(S)   AGE\n",
      "kubernetes   ClusterIP   10.96.0.1    <none>        443/TCP   13h\n"
     ]
    }
   ],
   "source": [
    "!kubectl get service"
   ]
  },
  {
   "cell_type": "markdown",
   "metadata": {},
   "source": [
    "`Answer`: ClusterIP"
   ]
  },
  {
   "cell_type": "markdown",
   "metadata": {},
   "source": [
    "### Create kubernetes cluster\n",
    "- kubectl apply -f deployment.yaml\n",
    "- kind load docker-image zoomcamp-model:v001\n",
    "- kubectl get pod"
   ]
  },
  {
   "cell_type": "code",
   "execution_count": 10,
   "metadata": {},
   "outputs": [
    {
     "name": "stdout",
     "output_type": "stream",
     "text": [
      "NAME                           READY   STATUS    RESTARTS   AGE\n",
      "credit-card-854fcccb98-97szn   1/1     Running   0          3m2s\n",
      "service-7f996b9c65-58bmn       1/1     Running   0          13s\n"
     ]
    }
   ],
   "source": [
    "!kubectl get pod"
   ]
  },
  {
   "cell_type": "markdown",
   "metadata": {},
   "source": [
    "## Question 5\n",
    "\n",
    "To be able to use the docker image we previously created (`zoomcamp-model:v001`),\n",
    "we need to register it with `kind`.\n",
    "\n",
    "What's the command we need to run for that?\n",
    "\n",
    "* `kind create cluster`\n",
    "* `kind build node-image`\n",
    "* `kind load docker-image`\n",
    "* `kubectl apply`\n",
    "\n",
    "`Answer`: kind load docker-image"
   ]
  },
  {
   "cell_type": "markdown",
   "metadata": {},
   "source": [
    "## Question 6\n",
    "\n",
    "Now let's create a deployment config (e.g. `deployment.yaml`):\n",
    "\n",
    "```yaml\n",
    "apiVersion: apps/v1\n",
    "kind: Deployment\n",
    "metadata:\n",
    "  name: credit-card\n",
    "spec:\n",
    "  selector:\n",
    "    matchLabels:\n",
    "      app: credit-card\n",
    "  replicas: 1\n",
    "  template:\n",
    "    metadata:\n",
    "      labels:\n",
    "        app: credit-card\n",
    "    spec:\n",
    "      containers:\n",
    "      - name: credit-card\n",
    "        image: <Image>\n",
    "        resources:\n",
    "          requests:\n",
    "            memory: \"64Mi\"\n",
    "            cpu: \"100m\"            \n",
    "          limits:\n",
    "            memory: <Memory>\n",
    "            cpu: <CPU>\n",
    "        ports:\n",
    "        - containerPort: <Port>\n",
    "```\n",
    "\n",
    "Replace `<Image>`, `<Memory>`, `<CPU>`, `<Port>` with the correct values.\n",
    "\n",
    "What is the value for `<Port>`?\n",
    "\n",
    "Apply this deployment using the appropriate command and get a list of running Pods. \n",
    "You can see one running Pod.\n",
    "\n",
    "`Answer`: 9696 according to the Dockerfile"
   ]
  },
  {
   "cell_type": "markdown",
   "metadata": {},
   "source": [
    "## Question 7\n",
    "\n",
    "Let's create a service for this deployment (`service.yaml`):\n",
    "\n",
    "```yaml\n",
    "apiVersion: v1\n",
    "kind: Service\n",
    "metadata:\n",
    "  name: <Service name>\n",
    "spec:\n",
    "  type: LoadBalancer\n",
    "  selector:\n",
    "    app: <???>\n",
    "  ports:\n",
    "  - port: 80\n",
    "    targetPort: <PORT>\n",
    "```\n",
    "\n",
    "Fill it in. What do we need to write instead of `<???>`?\n",
    "\n",
    "Apply this config file"
   ]
  },
  {
   "cell_type": "markdown",
   "metadata": {},
   "source": [
    "`Answer`: credit-card"
   ]
  },
  {
   "cell_type": "markdown",
   "metadata": {},
   "source": [
    "# Activate Service\n",
    "\n",
    "- kubectl apply -f service.yaml\n",
    "- kubectl port-forward service/credit-score 9696:80"
   ]
  },
  {
   "cell_type": "markdown",
   "metadata": {},
   "source": [
    "## Autoscaling\n",
    "\n",
    "Now we're going to use a [HorizontalPodAutoscaler](https://kubernetes.io/docs/tasks/run-application/horizontal-pod-autoscale-walkthrough/) \n",
    "(HPA for short) that automatically updates a workload resource (such as our deployment), \n",
    "with the aim of automatically scaling the workload to match demand.\n",
    "\n",
    "Use the following command to create the HPA:\n",
    "\n",
    "```bash\n",
    "kubectl autoscale deployment credit-card --name credit-card-hpa --cpu-percent=20 --min=1 --max=3\n",
    "```\n",
    "\n",
    "You can check the current status of the new HPA by running:\n",
    "\n",
    "```bash\n",
    "kubectl get hpa\n",
    "```\n",
    "\n",
    "The output should be similar to the next:\n",
    "\n",
    "```bash\n",
    "NAME              REFERENCE                TARGETS   MINPODS   MAXPODS   REPLICAS   AGE\n",
    "credit-card-hpa   Deployment/credit-card   1%/20%    1         3         1          27s\n",
    "```\n",
    "\n",
    "`TARGET` column shows the average CPU consumption across all the Pods controlled by the corresponding deployment.\n",
    "Current CPU consumption is about 0% as there are no clients sending requests to the server.\n",
    "> \n",
    ">Note: In case the HPA instance doesn't run properly, try to install the latest Metrics Server release \n",
    "> from the `components.yaml` manifest:\n",
    "> ```bash\n",
    "> kubectl apply -f https://github.com/kubernetes-sigs/metrics-server/releases/latest/download/components.yaml\n",
    ">```"
   ]
  },
  {
   "cell_type": "markdown",
   "metadata": {},
   "source": [
    "## Increase the load\n",
    "\n",
    "Let's see how the autoscaler reacts to increasing the load. To do this \n",
    "run many_request.py script"
   ]
  },
  {
   "cell_type": "markdown",
   "metadata": {},
   "source": [
    "\n",
    "## Question 8 (optional)\n",
    "\n",
    "Run `kubectl get hpa credit-card-hpa --watch` command to monitor how the autoscaler performs. \n",
    "Within a minute or so, you should see the higher CPU load; and then - more replicas. \n",
    "What was the maximum amount of the replicas during this test?\n",
    "\n",
    "\n",
    "* 1\n",
    "* 2\n",
    "* 3\n",
    "* 4"
   ]
  },
  {
   "cell_type": "code",
   "execution_count": null,
   "metadata": {},
   "outputs": [],
   "source": [
    "!python -m app.many_request"
   ]
  }
 ],
 "metadata": {
  "kernelspec": {
   "display_name": "Python 3.9.13 ('ml-zoomcamp')",
   "language": "python",
   "name": "python3"
  },
  "language_info": {
   "codemirror_mode": {
    "name": "ipython",
    "version": 3
   },
   "file_extension": ".py",
   "mimetype": "text/x-python",
   "name": "python",
   "nbconvert_exporter": "python",
   "pygments_lexer": "ipython3",
   "version": "3.9.13"
  },
  "orig_nbformat": 4,
  "vscode": {
   "interpreter": {
    "hash": "181881a0b307ca682e4a224e0e0b9985c4687fb0d86dc7fa4c6974d183122977"
   }
  }
 },
 "nbformat": 4,
 "nbformat_minor": 2
}
