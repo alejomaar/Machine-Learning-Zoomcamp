{
  "cells": [
    {
      "cell_type": "markdown",
      "metadata": {},
      "source": [
        "## Homework\n",
        "\n",
        "\n",
        "Use logistic regression to predict `above_average` which is 1 if the median_house_value is above its mean value and 0 otherwise.\n",
        "\n",
        "### Dataset\n",
        "\n",
        "In this homework, we will use the California Housing Prices data from [Kaggle](https://www.kaggle.com/datasets/camnugent/california-housing-prices).\n",
        "\n",
        "https://raw.githubusercontent.com/alexeygrigorev/datasets/master/housing.csv\n",
        "\n"
      ]
    },
    {
      "cell_type": "markdown",
      "metadata": {},
      "source": [
        "# 1 Data preparation\n",
        "* Download the data, read it with pandas\n",
        "* Look at the data\n",
        "* Evaluate and handle null values\n",
        "* Do feature engineering\n",
        "* Perform one-hot-encoding to categorical variables\n"
      ]
    },
    {
      "cell_type": "code",
      "execution_count": null,
      "metadata": {
        "id": "CQyNSwCPPM3s"
      },
      "outputs": [],
      "source": [
        "import pandas as pd \n",
        "url = 'https://raw.githubusercontent.com/alexeygrigorev/datasets/master/housing.csv'\n",
        "df = pd.read_csv(url)"
      ]
    },
    {
      "cell_type": "code",
      "execution_count": null,
      "metadata": {
        "colab": {
          "base_uri": "https://localhost:8080/",
          "height": 206
        },
        "id": "im5OGSwBPUzz",
        "outputId": "469c05bf-057b-4999-a453-20415f63def0"
      },
      "outputs": [],
      "source": [
        "df.head()"
      ]
    },
    {
      "cell_type": "markdown",
      "metadata": {},
      "source": [
        "Select numerical and categorical features"
      ]
    },
    {
      "cell_type": "code",
      "execution_count": null,
      "metadata": {},
      "outputs": [],
      "source": [
        "numerical = [\n",
        " 'latitude',\n",
        " 'longitude',\n",
        " 'housing_median_age',\n",
        " 'total_rooms',\n",
        " 'total_bedrooms',\n",
        " 'population',\n",
        " 'households',\n",
        " 'median_income',\n",
        " 'median_house_value',\n",
        " 'ocean_proximity'\n",
        " ]\n",
        "categorical = [\"ocean_proximity\"]"
      ]
    },
    {
      "cell_type": "markdown",
      "metadata": {},
      "source": [
        "Check null values"
      ]
    },
    {
      "cell_type": "code",
      "execution_count": null,
      "metadata": {},
      "outputs": [],
      "source": [
        "df.isnull().sum()"
      ]
    },
    {
      "cell_type": "markdown",
      "metadata": {},
      "source": [
        "Fill N/A with 0"
      ]
    },
    {
      "cell_type": "code",
      "execution_count": null,
      "metadata": {},
      "outputs": [],
      "source": [
        "df['total_bedrooms']= df['total_bedrooms'].fillna(0)"
      ]
    },
    {
      "cell_type": "markdown",
      "metadata": {},
      "source": [
        "Feature Engineering"
      ]
    },
    {
      "cell_type": "code",
      "execution_count": null,
      "metadata": {},
      "outputs": [],
      "source": [
        "df[\"rooms_per_household\"] =df['total_rooms']/df['households']\n",
        "df[\"bedrooms_per_room\"] =df['total_bedrooms']/df['total_rooms']\n",
        "df[\"population_per_household\"] =df['population']/df['households']"
      ]
    },
    {
      "cell_type": "markdown",
      "metadata": {
        "id": "2lkwwbTCobHJ"
      },
      "source": [
        "### One-hot encoding\n",
        "\n",
        "* Encode categorical features\n"
      ]
    },
    {
      "cell_type": "code",
      "execution_count": null,
      "metadata": {
        "colab": {
          "base_uri": "https://localhost:8080/"
        },
        "id": "lw7HMFm-ogte",
        "outputId": "99152282-3bea-4a5c-d872-d2af6e33f632"
      },
      "outputs": [],
      "source": [
        "ocean_proximity_onehot = pd.get_dummies(df.ocean_proximity, prefix='ocean_proximity=')\n",
        "df = pd.concat([df,ocean_proximity_onehot], axis=1)\n",
        "df.head()\n"
      ]
    },
    {
      "cell_type": "markdown",
      "metadata": {
        "id": "t_C6_hnZRTNM"
      },
      "source": [
        "### Question 1\n",
        "\n",
        "What is the most frequent observation (mode) for the column `ocean_proximity`?"
      ]
    },
    {
      "cell_type": "code",
      "execution_count": null,
      "metadata": {
        "colab": {
          "base_uri": "https://localhost:8080/"
        },
        "id": "PADVcqceRWLC",
        "outputId": "3e1cf6a1-cdc1-496e-8d80-ef485dcd374f"
      },
      "outputs": [
        {
          "data": {
            "text/plain": [
              "<1H OCEAN     9136\n",
              "INLAND        6551\n",
              "NEAR OCEAN    2658\n",
              "NEAR BAY      2290\n",
              "ISLAND           5\n",
              "Name: ocean_proximity, dtype: int64"
            ]
          },
          "execution_count": 139,
          "metadata": {},
          "output_type": "execute_result"
        }
      ],
      "source": [
        "df[\"ocean_proximity\"].value_counts()"
      ]
    },
    {
      "cell_type": "markdown",
      "metadata": {
        "id": "_93EJIf0RrrY"
      },
      "source": [
        "### Question 2\n",
        "\n",
        "* Create the [correlation matrix](https://www.google.com/search?q=correlation+matrix) for the numerical features of your train dataset.\n",
        "    - In a correlation matrix, you compute the correlation coefficient between every pair of features in the dataset.\n",
        "* What are the two features that have the biggest correlation in this dataset?"
      ]
    },
    {
      "cell_type": "code",
      "execution_count": null,
      "metadata": {
        "colab": {
          "base_uri": "https://localhost:8080/",
          "height": 332
        },
        "id": "fFq-VAjQRtJi",
        "outputId": "54b45e02-9191-44f3-9e27-c42dba85a269"
      },
      "outputs": [
        {
          "data": {
            "text/html": [
              "\n",
              "  <div id=\"df-9d84a02a-b3f9-4814-b26c-0abb9cfb769b\">\n",
              "    <div class=\"colab-df-container\">\n",
              "      <div>\n",
              "<style scoped>\n",
              "    .dataframe tbody tr th:only-of-type {\n",
              "        vertical-align: middle;\n",
              "    }\n",
              "\n",
              "    .dataframe tbody tr th {\n",
              "        vertical-align: top;\n",
              "    }\n",
              "\n",
              "    .dataframe thead th {\n",
              "        text-align: right;\n",
              "    }\n",
              "</style>\n",
              "<table border=\"1\" class=\"dataframe\">\n",
              "  <thead>\n",
              "    <tr style=\"text-align: right;\">\n",
              "      <th></th>\n",
              "      <th>latitude</th>\n",
              "      <th>longitude</th>\n",
              "      <th>housing_median_age</th>\n",
              "      <th>total_rooms</th>\n",
              "      <th>total_bedrooms</th>\n",
              "      <th>population</th>\n",
              "      <th>households</th>\n",
              "      <th>median_income</th>\n",
              "      <th>median_house_value</th>\n",
              "    </tr>\n",
              "  </thead>\n",
              "  <tbody>\n",
              "    <tr>\n",
              "      <th>latitude</th>\n",
              "      <td>1.00</td>\n",
              "      <td>-0.92</td>\n",
              "      <td>0.01</td>\n",
              "      <td>-0.04</td>\n",
              "      <td>-0.07</td>\n",
              "      <td>-0.11</td>\n",
              "      <td>-0.07</td>\n",
              "      <td>-0.08</td>\n",
              "      <td>-0.14</td>\n",
              "    </tr>\n",
              "    <tr>\n",
              "      <th>longitude</th>\n",
              "      <td>-0.92</td>\n",
              "      <td>1.00</td>\n",
              "      <td>-0.11</td>\n",
              "      <td>0.04</td>\n",
              "      <td>0.07</td>\n",
              "      <td>0.10</td>\n",
              "      <td>0.06</td>\n",
              "      <td>-0.02</td>\n",
              "      <td>-0.05</td>\n",
              "    </tr>\n",
              "    <tr>\n",
              "      <th>housing_median_age</th>\n",
              "      <td>0.01</td>\n",
              "      <td>-0.11</td>\n",
              "      <td>1.00</td>\n",
              "      <td>-0.36</td>\n",
              "      <td>-0.32</td>\n",
              "      <td>-0.30</td>\n",
              "      <td>-0.30</td>\n",
              "      <td>-0.12</td>\n",
              "      <td>0.11</td>\n",
              "    </tr>\n",
              "    <tr>\n",
              "      <th>total_rooms</th>\n",
              "      <td>-0.04</td>\n",
              "      <td>0.04</td>\n",
              "      <td>-0.36</td>\n",
              "      <td>1.00</td>\n",
              "      <td>0.92</td>\n",
              "      <td>0.86</td>\n",
              "      <td>0.92</td>\n",
              "      <td>0.20</td>\n",
              "      <td>0.13</td>\n",
              "    </tr>\n",
              "    <tr>\n",
              "      <th>total_bedrooms</th>\n",
              "      <td>-0.07</td>\n",
              "      <td>0.07</td>\n",
              "      <td>-0.32</td>\n",
              "      <td>0.92</td>\n",
              "      <td>1.00</td>\n",
              "      <td>0.87</td>\n",
              "      <td>0.97</td>\n",
              "      <td>-0.01</td>\n",
              "      <td>0.05</td>\n",
              "    </tr>\n",
              "    <tr>\n",
              "      <th>population</th>\n",
              "      <td>-0.11</td>\n",
              "      <td>0.10</td>\n",
              "      <td>-0.30</td>\n",
              "      <td>0.86</td>\n",
              "      <td>0.87</td>\n",
              "      <td>1.00</td>\n",
              "      <td>0.91</td>\n",
              "      <td>0.00</td>\n",
              "      <td>-0.02</td>\n",
              "    </tr>\n",
              "    <tr>\n",
              "      <th>households</th>\n",
              "      <td>-0.07</td>\n",
              "      <td>0.06</td>\n",
              "      <td>-0.30</td>\n",
              "      <td>0.92</td>\n",
              "      <td>0.97</td>\n",
              "      <td>0.91</td>\n",
              "      <td>1.00</td>\n",
              "      <td>0.01</td>\n",
              "      <td>0.07</td>\n",
              "    </tr>\n",
              "    <tr>\n",
              "      <th>median_income</th>\n",
              "      <td>-0.08</td>\n",
              "      <td>-0.02</td>\n",
              "      <td>-0.12</td>\n",
              "      <td>0.20</td>\n",
              "      <td>-0.01</td>\n",
              "      <td>0.00</td>\n",
              "      <td>0.01</td>\n",
              "      <td>1.00</td>\n",
              "      <td>0.69</td>\n",
              "    </tr>\n",
              "    <tr>\n",
              "      <th>median_house_value</th>\n",
              "      <td>-0.14</td>\n",
              "      <td>-0.05</td>\n",
              "      <td>0.11</td>\n",
              "      <td>0.13</td>\n",
              "      <td>0.05</td>\n",
              "      <td>-0.02</td>\n",
              "      <td>0.07</td>\n",
              "      <td>0.69</td>\n",
              "      <td>1.00</td>\n",
              "    </tr>\n",
              "  </tbody>\n",
              "</table>\n",
              "</div>\n",
              "      <button class=\"colab-df-convert\" onclick=\"convertToInteractive('df-9d84a02a-b3f9-4814-b26c-0abb9cfb769b')\"\n",
              "              title=\"Convert this dataframe to an interactive table.\"\n",
              "              style=\"display:none;\">\n",
              "        \n",
              "  <svg xmlns=\"http://www.w3.org/2000/svg\" height=\"24px\"viewBox=\"0 0 24 24\"\n",
              "       width=\"24px\">\n",
              "    <path d=\"M0 0h24v24H0V0z\" fill=\"none\"/>\n",
              "    <path d=\"M18.56 5.44l.94 2.06.94-2.06 2.06-.94-2.06-.94-.94-2.06-.94 2.06-2.06.94zm-11 1L8.5 8.5l.94-2.06 2.06-.94-2.06-.94L8.5 2.5l-.94 2.06-2.06.94zm10 10l.94 2.06.94-2.06 2.06-.94-2.06-.94-.94-2.06-.94 2.06-2.06.94z\"/><path d=\"M17.41 7.96l-1.37-1.37c-.4-.4-.92-.59-1.43-.59-.52 0-1.04.2-1.43.59L10.3 9.45l-7.72 7.72c-.78.78-.78 2.05 0 2.83L4 21.41c.39.39.9.59 1.41.59.51 0 1.02-.2 1.41-.59l7.78-7.78 2.81-2.81c.8-.78.8-2.07 0-2.86zM5.41 20L4 18.59l7.72-7.72 1.47 1.35L5.41 20z\"/>\n",
              "  </svg>\n",
              "      </button>\n",
              "      \n",
              "  <style>\n",
              "    .colab-df-container {\n",
              "      display:flex;\n",
              "      flex-wrap:wrap;\n",
              "      gap: 12px;\n",
              "    }\n",
              "\n",
              "    .colab-df-convert {\n",
              "      background-color: #E8F0FE;\n",
              "      border: none;\n",
              "      border-radius: 50%;\n",
              "      cursor: pointer;\n",
              "      display: none;\n",
              "      fill: #1967D2;\n",
              "      height: 32px;\n",
              "      padding: 0 0 0 0;\n",
              "      width: 32px;\n",
              "    }\n",
              "\n",
              "    .colab-df-convert:hover {\n",
              "      background-color: #E2EBFA;\n",
              "      box-shadow: 0px 1px 2px rgba(60, 64, 67, 0.3), 0px 1px 3px 1px rgba(60, 64, 67, 0.15);\n",
              "      fill: #174EA6;\n",
              "    }\n",
              "\n",
              "    [theme=dark] .colab-df-convert {\n",
              "      background-color: #3B4455;\n",
              "      fill: #D2E3FC;\n",
              "    }\n",
              "\n",
              "    [theme=dark] .colab-df-convert:hover {\n",
              "      background-color: #434B5C;\n",
              "      box-shadow: 0px 1px 3px 1px rgba(0, 0, 0, 0.15);\n",
              "      filter: drop-shadow(0px 1px 2px rgba(0, 0, 0, 0.3));\n",
              "      fill: #FFFFFF;\n",
              "    }\n",
              "  </style>\n",
              "\n",
              "      <script>\n",
              "        const buttonEl =\n",
              "          document.querySelector('#df-9d84a02a-b3f9-4814-b26c-0abb9cfb769b button.colab-df-convert');\n",
              "        buttonEl.style.display =\n",
              "          google.colab.kernel.accessAllowed ? 'block' : 'none';\n",
              "\n",
              "        async function convertToInteractive(key) {\n",
              "          const element = document.querySelector('#df-9d84a02a-b3f9-4814-b26c-0abb9cfb769b');\n",
              "          const dataTable =\n",
              "            await google.colab.kernel.invokeFunction('convertToInteractive',\n",
              "                                                     [key], {});\n",
              "          if (!dataTable) return;\n",
              "\n",
              "          const docLinkHtml = 'Like what you see? Visit the ' +\n",
              "            '<a target=\"_blank\" href=https://colab.research.google.com/notebooks/data_table.ipynb>data table notebook</a>'\n",
              "            + ' to learn more about interactive tables.';\n",
              "          element.innerHTML = '';\n",
              "          dataTable['output_type'] = 'display_data';\n",
              "          await google.colab.output.renderOutput(dataTable, element);\n",
              "          const docLink = document.createElement('div');\n",
              "          docLink.innerHTML = docLinkHtml;\n",
              "          element.appendChild(docLink);\n",
              "        }\n",
              "      </script>\n",
              "    </div>\n",
              "  </div>\n",
              "  "
            ],
            "text/plain": [
              "                    latitude  longitude  housing_median_age  total_rooms  \\\n",
              "latitude                1.00      -0.92                0.01        -0.04   \n",
              "longitude              -0.92       1.00               -0.11         0.04   \n",
              "housing_median_age      0.01      -0.11                1.00        -0.36   \n",
              "total_rooms            -0.04       0.04               -0.36         1.00   \n",
              "total_bedrooms         -0.07       0.07               -0.32         0.92   \n",
              "population             -0.11       0.10               -0.30         0.86   \n",
              "households             -0.07       0.06               -0.30         0.92   \n",
              "median_income          -0.08      -0.02               -0.12         0.20   \n",
              "median_house_value     -0.14      -0.05                0.11         0.13   \n",
              "\n",
              "                    total_bedrooms  population  households  median_income  \\\n",
              "latitude                     -0.07       -0.11       -0.07          -0.08   \n",
              "longitude                     0.07        0.10        0.06          -0.02   \n",
              "housing_median_age           -0.32       -0.30       -0.30          -0.12   \n",
              "total_rooms                   0.92        0.86        0.92           0.20   \n",
              "total_bedrooms                1.00        0.87        0.97          -0.01   \n",
              "population                    0.87        1.00        0.91           0.00   \n",
              "households                    0.97        0.91        1.00           0.01   \n",
              "median_income                -0.01        0.00        0.01           1.00   \n",
              "median_house_value            0.05       -0.02        0.07           0.69   \n",
              "\n",
              "                    median_house_value  \n",
              "latitude                         -0.14  \n",
              "longitude                        -0.05  \n",
              "housing_median_age                0.11  \n",
              "total_rooms                       0.13  \n",
              "total_bedrooms                    0.05  \n",
              "population                       -0.02  \n",
              "households                        0.07  \n",
              "median_income                     0.69  \n",
              "median_house_value                1.00  "
            ]
          },
          "execution_count": 140,
          "metadata": {},
          "output_type": "execute_result"
        }
      ],
      "source": [
        "pd.options.display.float_format = \"{:,.2f}\".format\n",
        "\n",
        "df[numerical].corr()"
      ]
    },
    {
      "cell_type": "markdown",
      "metadata": {
        "id": "cg6-Qgd2UpFW"
      },
      "source": [
        "total_bedrooms aand households"
      ]
    },
    {
      "cell_type": "markdown",
      "metadata": {
        "id": "P95ySRsxVYq8"
      },
      "source": [
        "### Make `median_house_value` binary\n",
        "\n",
        "* We need to turn the `median_house_value` variable from numeric into binary.\n",
        "* Let's create a variable `above_average` which is `1` if the `median_house_value` is above its mean value and `0` otherwise.\n",
        "\n"
      ]
    },
    {
      "cell_type": "code",
      "execution_count": null,
      "metadata": {
        "id": "uNu-3oZmVaEN"
      },
      "outputs": [],
      "source": [
        "median_house_value_mean = df[\"median_house_value\"].mean()\n",
        "df[\"median_house_value\"] =df[\"median_house_value\"] >median_house_value_mean"
      ]
    },
    {
      "cell_type": "code",
      "execution_count": null,
      "metadata": {
        "colab": {
          "base_uri": "https://localhost:8080/"
        },
        "id": "76hMVb7qVzGL",
        "outputId": "42c647b5-2f73-42f4-9e92-4420bb1d91e9"
      },
      "outputs": [
        {
          "data": {
            "text/plain": [
              "False    12255\n",
              "True      8385\n",
              "Name: median_house_value, dtype: int64"
            ]
          },
          "execution_count": 142,
          "metadata": {},
          "output_type": "execute_result"
        }
      ],
      "source": [
        "df[\"median_house_value\"].value_counts()"
      ]
    },
    {
      "cell_type": "markdown",
      "metadata": {
        "id": "CKk2h601W6Mj"
      },
      "source": [
        "### Split the data\n",
        "\n",
        "* Split your data in train/val/test sets, with 60%/20%/20% distribution.\n",
        "* Use Scikit-Learn for that (the `train_test_split` function) and set the seed to 42.\n",
        "* Make sure that the target value (`median_house_value`) is not in your dataframe."
      ]
    },
    {
      "cell_type": "code",
      "execution_count": null,
      "metadata": {
        "id": "jqC5jRoDWIdL"
      },
      "outputs": [],
      "source": [
        "from sklearn.model_selection import train_test_split\n",
        "\n",
        "df_full_train, df_test = train_test_split(df, test_size=0.2, random_state=42)\n",
        "df_train, df_val = train_test_split(df_full_train, test_size=0.25, random_state=42)"
      ]
    },
    {
      "cell_type": "code",
      "execution_count": null,
      "metadata": {
        "colab": {
          "base_uri": "https://localhost:8080/"
        },
        "id": "rOSdW0JOXUWS",
        "outputId": "f6139f60-64b5-4bca-d43e-06892bf858df"
      },
      "outputs": [
        {
          "data": {
            "text/plain": [
              "((12384, 18), (4128, 18), (4128, 18))"
            ]
          },
          "execution_count": 144,
          "metadata": {},
          "output_type": "execute_result"
        }
      ],
      "source": [
        "df_train.shape,df_test.shape, df_val.shape"
      ]
    },
    {
      "cell_type": "code",
      "execution_count": null,
      "metadata": {
        "id": "9EsDEyMRXoyz"
      },
      "outputs": [],
      "source": [
        "df_train = df_train.reset_index(drop=True)\n",
        "df_val = df_val.reset_index(drop=True)\n",
        "df_test = df_test.reset_index(drop=True)"
      ]
    },
    {
      "cell_type": "code",
      "execution_count": null,
      "metadata": {
        "id": "h9UguIKlXrJc"
      },
      "outputs": [],
      "source": [
        "y_train = df_train.median_house_value.values\n",
        "y_val = df_val.median_house_value.values\n",
        "y_test = df_val.median_house_value.values\n",
        "\n",
        "del df_train['median_house_value']\n",
        "del df_val['median_house_value']\n",
        "del df_test['median_house_value']"
      ]
    },
    {
      "cell_type": "markdown",
      "metadata": {
        "id": "I4ubE9uUX8oa"
      },
      "source": [
        "### Question 3\n",
        "\n",
        "* Calculate the mutual information score with the (binarized) price for the categorical variable that we have. Use the training set only.\n",
        "* What is the value of mutual information?\n",
        "* Round it to 2 decimal digits using `round(score, 2)`"
      ]
    },
    {
      "cell_type": "code",
      "execution_count": null,
      "metadata": {
        "colab": {
          "base_uri": "https://localhost:8080/"
        },
        "id": "iUbZjd05X9ZG",
        "outputId": "f3ca580a-d864-46ca-dad9-7fb85d831e4b"
      },
      "outputs": [
        {
          "data": {
            "text/plain": [
              "ocean_proximity   0.10\n",
              "dtype: float64"
            ]
          },
          "execution_count": 147,
          "metadata": {},
          "output_type": "execute_result"
        }
      ],
      "source": [
        "from sklearn.metrics import mutual_info_score\n",
        "\n",
        "def mutual_info_churn_score(series):\n",
        "    return mutual_info_score(series,y_train)\n",
        "\n",
        "mi = df_train[categorical].apply(mutual_info_churn_score)\n",
        "mi.sort_values(ascending=False)"
      ]
    },
    {
      "cell_type": "markdown",
      "metadata": {
        "id": "aSJMCfsGvItf"
      },
      "source": [
        "### Question 4\n",
        "\n",
        "* Now let's train a logistic regression\n",
        "* Remember that we have one categorical variable `ocean_proximity` in the data. Include it using one-hot encoding.\n",
        "* Fit the model on the training dataset.\n",
        "    - To make sure the results are reproducible across different versions of Scikit-Learn, fit the model with these parameters:\n",
        "    - `model = LogisticRegression(solver=\"liblinear\", C=1.0, max_iter=1000, random_state=42)`\n",
        "* Calculate the accuracy on the validation dataset and round it to 2 decimal digits."
      ]
    },
    {
      "cell_type": "code",
      "execution_count": null,
      "metadata": {
        "id": "kn-CvyRRvKRn"
      },
      "outputs": [],
      "source": [
        "\n",
        "features = df_train.columns[df_train.dtypes != \"object\"]\n",
        "X_train = df_train[features]"
      ]
    },
    {
      "cell_type": "code",
      "execution_count": null,
      "metadata": {
        "colab": {
          "base_uri": "https://localhost:8080/"
        },
        "id": "0SHXgFCfxivE",
        "outputId": "5dc1719a-c55c-4ced-d0d4-c8bcb260e50d"
      },
      "outputs": [
        {
          "data": {
            "text/plain": [
              "LogisticRegression(max_iter=1000, random_state=42, solver='liblinear')"
            ]
          },
          "execution_count": 149,
          "metadata": {},
          "output_type": "execute_result"
        }
      ],
      "source": [
        "from sklearn.linear_model import LogisticRegression\n",
        "model = LogisticRegression(solver=\"liblinear\", C=1.0, max_iter=1000, random_state=42)\n",
        "model.fit(X_train, y_train)\n"
      ]
    },
    {
      "cell_type": "code",
      "execution_count": null,
      "metadata": {
        "colab": {
          "base_uri": "https://localhost:8080/"
        },
        "id": "CXRs_01Wx7rK",
        "outputId": "50061b7c-45ac-450f-d58a-e1d559b1aae6"
      },
      "outputs": [
        {
          "data": {
            "text/plain": [
              "0.8352713178294574"
            ]
          },
          "execution_count": 150,
          "metadata": {},
          "output_type": "execute_result"
        }
      ],
      "source": [
        "X_val = df_val[features]\n",
        "model.score(X_val, y_val)"
      ]
    },
    {
      "cell_type": "markdown",
      "metadata": {
        "id": "ZD9qIG0my4z1"
      },
      "source": [
        "### Question 5 \n",
        "\n",
        "* Let's find the least useful feature using the *feature elimination* technique.\n",
        "* Train a model with all these features (using the same parameters as in Q4).\n",
        "* Now exclude each feature from this set and train a model without it. Record the accuracy for each model.\n",
        "* For each feature, calculate the difference between the original accuracy and the accuracy without the feature. \n",
        "* Which of following feature has the smallest difference? \n",
        "   * `total_rooms`\n",
        "   * `total_bedrooms` \n",
        "   * `population`\n",
        "   * `households`"
      ]
    },
    {
      "cell_type": "code",
      "execution_count": null,
      "metadata": {
        "id": "h9eHLN2Z3rXQ"
      },
      "outputs": [],
      "source": []
    },
    {
      "cell_type": "code",
      "execution_count": null,
      "metadata": {
        "colab": {
          "base_uri": "https://localhost:8080/"
        },
        "id": "Jg8fWN0Ry53x",
        "outputId": "a02eff74-7594-4115-fd52-9a508282d45a"
      },
      "outputs": [
        {
          "name": "stdout",
          "output_type": "stream",
          "text": [
            "83.36 0.142 latitude\n",
            "83.24 0.264 longitude\n",
            "83.09 0.409 housing_median_age\n",
            "83.75 0.245 total_rooms\n",
            "83.5 0.003 total_bedrooms\n",
            "82.63 0.869 population\n",
            "83.31 0.191 households\n",
            "78.66 4.842 median_income\n",
            "83.58 0.076 ocean_proximity=_<1H OCEAN\n",
            "83.62 0.124 ocean_proximity=_INLAND\n",
            "83.62 0.124 ocean_proximity=_ISLAND\n",
            "83.6 0.1 ocean_proximity=_NEAR BAY\n",
            "83.43 0.07 ocean_proximity=_NEAR OCEAN\n",
            "83.5 0.003 rooms_per_household\n",
            "83.5 0.003 bedrooms_per_room\n",
            "83.67 0.172 population_per_household\n"
          ]
        }
      ],
      "source": [
        "myfeatures = features.to_list()\n",
        "score=[]\n",
        "for feature in myfeatures:\n",
        "  partial_features = myfeatures.copy()\n",
        "  partial_features.remove(feature)\n",
        "  model = LogisticRegression(solver=\"liblinear\", C=1.0, max_iter=1000, random_state=42)\n",
        "  X_train = df_train[partial_features]\n",
        "  model.fit(X_train, y_train)\n",
        "  X_val = df_val[partial_features]\n",
        "  score =model.score(X_val, y_val)\n",
        "  print(round(score*100,2),round(abs(0.835-score)*100,3),feature)\n",
        "  "
      ]
    },
    {
      "cell_type": "markdown",
      "metadata": {
        "id": "gq3vyjvO53K9"
      },
      "source": [
        "total beedrooms is the less significant feature"
      ]
    },
    {
      "cell_type": "code",
      "execution_count": null,
      "metadata": {
        "id": "3nvqGk7-58gr"
      },
      "outputs": [],
      "source": []
    }
  ],
  "metadata": {
    "colab": {
      "collapsed_sections": [],
      "provenance": []
    },
    "kernelspec": {
      "display_name": "Python 3.9.13 ('ml-zoomcamp')",
      "language": "python",
      "name": "python3"
    },
    "language_info": {
      "codemirror_mode": {
        "name": "ipython",
        "version": 3
      },
      "file_extension": ".py",
      "mimetype": "text/x-python",
      "name": "python",
      "nbconvert_exporter": "python",
      "pygments_lexer": "ipython3",
      "version": "3.9.13"
    },
    "vscode": {
      "interpreter": {
        "hash": "181881a0b307ca682e4a224e0e0b9985c4687fb0d86dc7fa4c6974d183122977"
      }
    }
  },
  "nbformat": 4,
  "nbformat_minor": 0
}
